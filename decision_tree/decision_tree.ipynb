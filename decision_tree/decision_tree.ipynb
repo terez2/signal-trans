{
 "cells": [
  {
   "cell_type": "markdown",
   "id": "9fc3c192",
   "metadata": {},
   "source": [
    "# DECISION TREE\n",
    "\n",
    "Decision tree model. \n",
    "Implemented because it is simple to understand. It was the first experiment with machine learning algorithms."
   ]
  },
  {
   "cell_type": "code",
   "execution_count": 34,
   "id": "3e1d1705",
   "metadata": {},
   "outputs": [],
   "source": [
    "import pandas as pd\n",
    "import numpy as np \n",
    "import joblib\n",
    "from sklearn.tree import DecisionTreeClassifier\n",
    "from sklearn.model_selection import train_test_split\n",
    "from sklearn.metrics import accuracy_score\n",
    "from sklearn import tree"
   ]
  },
  {
   "cell_type": "markdown",
   "id": "7656b8f7",
   "metadata": {},
   "source": [
    "The data contains 14 channels and the last column is the state of the eye."
   ]
  },
  {
   "cell_type": "code",
   "execution_count": 35,
   "id": "d9c26dd1",
   "metadata": {},
   "outputs": [
    {
     "data": {
      "text/html": [
       "<div>\n",
       "<style scoped>\n",
       "    .dataframe tbody tr th:only-of-type {\n",
       "        vertical-align: middle;\n",
       "    }\n",
       "\n",
       "    .dataframe tbody tr th {\n",
       "        vertical-align: top;\n",
       "    }\n",
       "\n",
       "    .dataframe thead th {\n",
       "        text-align: right;\n",
       "    }\n",
       "</style>\n",
       "<table border=\"1\" class=\"dataframe\">\n",
       "  <thead>\n",
       "    <tr style=\"text-align: right;\">\n",
       "      <th></th>\n",
       "      <th>AF3</th>\n",
       "      <th>F7</th>\n",
       "      <th>F3</th>\n",
       "      <th>FC5</th>\n",
       "      <th>T7</th>\n",
       "      <th>P7</th>\n",
       "      <th>O1</th>\n",
       "      <th>O2</th>\n",
       "      <th>P8</th>\n",
       "      <th>T8</th>\n",
       "      <th>FC6</th>\n",
       "      <th>F4</th>\n",
       "      <th>F8</th>\n",
       "      <th>AF4</th>\n",
       "      <th>eye</th>\n",
       "    </tr>\n",
       "  </thead>\n",
       "  <tbody>\n",
       "    <tr>\n",
       "      <th>0</th>\n",
       "      <td>4329.23</td>\n",
       "      <td>4009.23</td>\n",
       "      <td>4289.23</td>\n",
       "      <td>4148.21</td>\n",
       "      <td>4350.26</td>\n",
       "      <td>4586.15</td>\n",
       "      <td>4096.92</td>\n",
       "      <td>4641.03</td>\n",
       "      <td>4222.05</td>\n",
       "      <td>4238.46</td>\n",
       "      <td>4211.28</td>\n",
       "      <td>4280.51</td>\n",
       "      <td>4635.90</td>\n",
       "      <td>4393.85</td>\n",
       "      <td>open</td>\n",
       "    </tr>\n",
       "    <tr>\n",
       "      <th>1</th>\n",
       "      <td>4324.62</td>\n",
       "      <td>4004.62</td>\n",
       "      <td>4293.85</td>\n",
       "      <td>4148.72</td>\n",
       "      <td>4342.05</td>\n",
       "      <td>4586.67</td>\n",
       "      <td>4097.44</td>\n",
       "      <td>4638.97</td>\n",
       "      <td>4210.77</td>\n",
       "      <td>4226.67</td>\n",
       "      <td>4207.69</td>\n",
       "      <td>4279.49</td>\n",
       "      <td>4632.82</td>\n",
       "      <td>4384.10</td>\n",
       "      <td>open</td>\n",
       "    </tr>\n",
       "    <tr>\n",
       "      <th>2</th>\n",
       "      <td>4327.69</td>\n",
       "      <td>4006.67</td>\n",
       "      <td>4295.38</td>\n",
       "      <td>4156.41</td>\n",
       "      <td>4336.92</td>\n",
       "      <td>4583.59</td>\n",
       "      <td>4096.92</td>\n",
       "      <td>4630.26</td>\n",
       "      <td>4207.69</td>\n",
       "      <td>4222.05</td>\n",
       "      <td>4206.67</td>\n",
       "      <td>4282.05</td>\n",
       "      <td>4628.72</td>\n",
       "      <td>4389.23</td>\n",
       "      <td>open</td>\n",
       "    </tr>\n",
       "    <tr>\n",
       "      <th>3</th>\n",
       "      <td>4328.72</td>\n",
       "      <td>4011.79</td>\n",
       "      <td>4296.41</td>\n",
       "      <td>4155.90</td>\n",
       "      <td>4343.59</td>\n",
       "      <td>4582.56</td>\n",
       "      <td>4097.44</td>\n",
       "      <td>4630.77</td>\n",
       "      <td>4217.44</td>\n",
       "      <td>4235.38</td>\n",
       "      <td>4210.77</td>\n",
       "      <td>4287.69</td>\n",
       "      <td>4632.31</td>\n",
       "      <td>4396.41</td>\n",
       "      <td>open</td>\n",
       "    </tr>\n",
       "    <tr>\n",
       "      <th>4</th>\n",
       "      <td>4326.15</td>\n",
       "      <td>4011.79</td>\n",
       "      <td>4292.31</td>\n",
       "      <td>4151.28</td>\n",
       "      <td>4347.69</td>\n",
       "      <td>4586.67</td>\n",
       "      <td>4095.90</td>\n",
       "      <td>4627.69</td>\n",
       "      <td>4210.77</td>\n",
       "      <td>4244.10</td>\n",
       "      <td>4212.82</td>\n",
       "      <td>4288.21</td>\n",
       "      <td>4632.82</td>\n",
       "      <td>4398.46</td>\n",
       "      <td>open</td>\n",
       "    </tr>\n",
       "    <tr>\n",
       "      <th>...</th>\n",
       "      <td>...</td>\n",
       "      <td>...</td>\n",
       "      <td>...</td>\n",
       "      <td>...</td>\n",
       "      <td>...</td>\n",
       "      <td>...</td>\n",
       "      <td>...</td>\n",
       "      <td>...</td>\n",
       "      <td>...</td>\n",
       "      <td>...</td>\n",
       "      <td>...</td>\n",
       "      <td>...</td>\n",
       "      <td>...</td>\n",
       "      <td>...</td>\n",
       "      <td>...</td>\n",
       "    </tr>\n",
       "    <tr>\n",
       "      <th>14975</th>\n",
       "      <td>4281.03</td>\n",
       "      <td>3990.26</td>\n",
       "      <td>4245.64</td>\n",
       "      <td>4116.92</td>\n",
       "      <td>4333.85</td>\n",
       "      <td>4614.36</td>\n",
       "      <td>4074.87</td>\n",
       "      <td>4625.64</td>\n",
       "      <td>4203.08</td>\n",
       "      <td>4221.54</td>\n",
       "      <td>4171.28</td>\n",
       "      <td>4269.23</td>\n",
       "      <td>4593.33</td>\n",
       "      <td>4340.51</td>\n",
       "      <td>close</td>\n",
       "    </tr>\n",
       "    <tr>\n",
       "      <th>14976</th>\n",
       "      <td>4276.92</td>\n",
       "      <td>3991.79</td>\n",
       "      <td>4245.13</td>\n",
       "      <td>4110.77</td>\n",
       "      <td>4332.82</td>\n",
       "      <td>4615.38</td>\n",
       "      <td>4073.33</td>\n",
       "      <td>4621.54</td>\n",
       "      <td>4194.36</td>\n",
       "      <td>4217.44</td>\n",
       "      <td>4162.56</td>\n",
       "      <td>4259.49</td>\n",
       "      <td>4590.26</td>\n",
       "      <td>4333.33</td>\n",
       "      <td>close</td>\n",
       "    </tr>\n",
       "    <tr>\n",
       "      <th>14977</th>\n",
       "      <td>4277.44</td>\n",
       "      <td>3990.77</td>\n",
       "      <td>4246.67</td>\n",
       "      <td>4113.85</td>\n",
       "      <td>4333.33</td>\n",
       "      <td>4615.38</td>\n",
       "      <td>4072.82</td>\n",
       "      <td>4623.59</td>\n",
       "      <td>4193.33</td>\n",
       "      <td>4212.82</td>\n",
       "      <td>4160.51</td>\n",
       "      <td>4257.95</td>\n",
       "      <td>4591.79</td>\n",
       "      <td>4339.49</td>\n",
       "      <td>close</td>\n",
       "    </tr>\n",
       "    <tr>\n",
       "      <th>14978</th>\n",
       "      <td>4284.62</td>\n",
       "      <td>3991.79</td>\n",
       "      <td>4251.28</td>\n",
       "      <td>4122.05</td>\n",
       "      <td>4334.36</td>\n",
       "      <td>4616.41</td>\n",
       "      <td>4080.51</td>\n",
       "      <td>4628.72</td>\n",
       "      <td>4200.00</td>\n",
       "      <td>4220.00</td>\n",
       "      <td>4165.64</td>\n",
       "      <td>4267.18</td>\n",
       "      <td>4596.41</td>\n",
       "      <td>4350.77</td>\n",
       "      <td>close</td>\n",
       "    </tr>\n",
       "    <tr>\n",
       "      <th>14979</th>\n",
       "      <td>4287.69</td>\n",
       "      <td>3997.44</td>\n",
       "      <td>4260.00</td>\n",
       "      <td>4121.03</td>\n",
       "      <td>4333.33</td>\n",
       "      <td>4616.41</td>\n",
       "      <td>4088.72</td>\n",
       "      <td>4638.46</td>\n",
       "      <td>4212.31</td>\n",
       "      <td>4226.67</td>\n",
       "      <td>4167.69</td>\n",
       "      <td>4274.36</td>\n",
       "      <td>4597.95</td>\n",
       "      <td>4350.77</td>\n",
       "      <td>close</td>\n",
       "    </tr>\n",
       "  </tbody>\n",
       "</table>\n",
       "<p>14980 rows × 15 columns</p>\n",
       "</div>"
      ],
      "text/plain": [
       "           AF3       F7       F3      FC5       T7       P7       O1       O2  \\\n",
       "0      4329.23  4009.23  4289.23  4148.21  4350.26  4586.15  4096.92  4641.03   \n",
       "1      4324.62  4004.62  4293.85  4148.72  4342.05  4586.67  4097.44  4638.97   \n",
       "2      4327.69  4006.67  4295.38  4156.41  4336.92  4583.59  4096.92  4630.26   \n",
       "3      4328.72  4011.79  4296.41  4155.90  4343.59  4582.56  4097.44  4630.77   \n",
       "4      4326.15  4011.79  4292.31  4151.28  4347.69  4586.67  4095.90  4627.69   \n",
       "...        ...      ...      ...      ...      ...      ...      ...      ...   \n",
       "14975  4281.03  3990.26  4245.64  4116.92  4333.85  4614.36  4074.87  4625.64   \n",
       "14976  4276.92  3991.79  4245.13  4110.77  4332.82  4615.38  4073.33  4621.54   \n",
       "14977  4277.44  3990.77  4246.67  4113.85  4333.33  4615.38  4072.82  4623.59   \n",
       "14978  4284.62  3991.79  4251.28  4122.05  4334.36  4616.41  4080.51  4628.72   \n",
       "14979  4287.69  3997.44  4260.00  4121.03  4333.33  4616.41  4088.72  4638.46   \n",
       "\n",
       "            P8       T8      FC6       F4       F8      AF4    eye  \n",
       "0      4222.05  4238.46  4211.28  4280.51  4635.90  4393.85   open  \n",
       "1      4210.77  4226.67  4207.69  4279.49  4632.82  4384.10   open  \n",
       "2      4207.69  4222.05  4206.67  4282.05  4628.72  4389.23   open  \n",
       "3      4217.44  4235.38  4210.77  4287.69  4632.31  4396.41   open  \n",
       "4      4210.77  4244.10  4212.82  4288.21  4632.82  4398.46   open  \n",
       "...        ...      ...      ...      ...      ...      ...    ...  \n",
       "14975  4203.08  4221.54  4171.28  4269.23  4593.33  4340.51  close  \n",
       "14976  4194.36  4217.44  4162.56  4259.49  4590.26  4333.33  close  \n",
       "14977  4193.33  4212.82  4160.51  4257.95  4591.79  4339.49  close  \n",
       "14978  4200.00  4220.00  4165.64  4267.18  4596.41  4350.77  close  \n",
       "14979  4212.31  4226.67  4167.69  4274.36  4597.95  4350.77  close  \n",
       "\n",
       "[14980 rows x 15 columns]"
      ]
     },
     "execution_count": 35,
     "metadata": {},
     "output_type": "execute_result"
    }
   ],
   "source": [
    "eye_data = pd.read_csv('../eeg_eye_state.arff')\n",
    "eye_data"
   ]
  },
  {
   "cell_type": "markdown",
   "id": "c33e39a7",
   "metadata": {},
   "source": [
    "Data should be standartized by removing the mean(=zero) and scaling to unit variance"
   ]
  },
  {
   "cell_type": "code",
   "execution_count": 36,
   "id": "b3203d51",
   "metadata": {},
   "outputs": [],
   "source": [
    "from sklearn.preprocessing import StandardScaler\n",
    "\n",
    "def signals_preprocessing(data, columns):      \n",
    "    scaler = StandardScaler() \n",
    "    data = np.asarray(data.astype(float))\n",
    "    data = scaler.fit_transform(data)\n",
    "    data = pd.DataFrame(data, columns=columns) \n",
    "    \n",
    "    return data"
   ]
  },
  {
   "cell_type": "markdown",
   "id": "19b1f119",
   "metadata": {},
   "source": [
    "The next steps are to create a decision tree. Its accuracy score is displayed."
   ]
  },
  {
   "cell_type": "code",
   "execution_count": 37,
   "id": "1b49f7df",
   "metadata": {},
   "outputs": [
    {
     "data": {
      "text/plain": [
       "0.8324432576769025"
      ]
     },
     "execution_count": 37,
     "metadata": {},
     "output_type": "execute_result"
    }
   ],
   "source": [
    "x = eye_data.drop(columns=['eye'])\n",
    "x = signals_preprocessing(x,['AF3','F7','F3','FC5','T7','P7','O1','O2','P8','T8','FC6','F4','F8','AF4'])\n",
    "y = eye_data['eye']\n",
    "\n",
    "# Divide the data into training data and test data  \n",
    "x_train, x_test, y_train, y_test = train_test_split(x, y, test_size=0.2)\n",
    "\n",
    "# Create decision tree\n",
    "model = DecisionTreeClassifier()\n",
    "# Train it\n",
    "model.fit(x_train, y_train)\n",
    "prediction = model.predict(x_test)\n",
    "\n",
    "# Accuracy classification score\n",
    "score = accuracy_score(y_test, prediction)\n",
    "score"
   ]
  },
  {
   "cell_type": "markdown",
   "id": "66fe838f",
   "metadata": {},
   "source": [
    "The decission tree for this data has an accuracy rate of approximately 84%."
   ]
  },
  {
   "cell_type": "markdown",
   "id": "af714f30",
   "metadata": {},
   "source": [
    "This trained model is stored using the joblib library for future use."
   ]
  },
  {
   "cell_type": "code",
   "execution_count": 38,
   "id": "5d89cf3e",
   "metadata": {},
   "outputs": [
    {
     "data": {
      "text/plain": [
       "['decision-tree-eye-state-prediction.joblib']"
      ]
     },
     "execution_count": 38,
     "metadata": {},
     "output_type": "execute_result"
    }
   ],
   "source": [
    "# Save model to external file\n",
    "joblib.dump(model, 'decision-tree-eye-state-prediction.joblib')\n",
    "# Load model from this file \n",
    "# model = joblib.load('decision-tree-eye-state-prediction.joblib')"
   ]
  },
  {
   "cell_type": "markdown",
   "id": "a66d9813",
   "metadata": {},
   "source": [
    "Try prediction for some data:"
   ]
  },
  {
   "cell_type": "code",
   "execution_count": 39,
   "id": "fb4a2fba",
   "metadata": {},
   "outputs": [
    {
     "data": {
      "text/plain": [
       "array(['open'], dtype=object)"
      ]
     },
     "execution_count": 39,
     "metadata": {},
     "output_type": "execute_result"
    }
   ],
   "source": [
    "predictions = model.predict([[4328.23, 4009.23, 4289.23, 4148.21, 4320.26, 4586.15, 4096.92, 4641.03, 4252.05, 4238.46, 4211.28, 4280.51, 4635.9, 4393.85]])\n",
    "predictions"
   ]
  },
  {
   "cell_type": "markdown",
   "id": "fa1bfc94",
   "metadata": {},
   "source": [
    "This create 'eye-state-decision-tree.dot' file with graph data. This can be shown with Visual Studio Code and its extension for Graphviz (however, this decision tree is too large to show in it)."
   ]
  },
  {
   "cell_type": "code",
   "execution_count": 40,
   "id": "40b272fa",
   "metadata": {},
   "outputs": [],
   "source": [
    "tree.export_graphviz( model, \n",
    "    out_file='eye-state-decision-tree.dot', \n",
    "    feature_names=['AF3','F7','F3','FC5','T7','P7','O1','O2','P8','T8','FC6','F4','F8','AF4'], \n",
    "    class_names=sorted(y.unique()), \n",
    "    label='all', \n",
    "    rounded=True, \n",
    "    filled=True)"
   ]
  }
 ],
 "metadata": {
  "kernelspec": {
   "display_name": "Python 3",
   "language": "python",
   "name": "python3"
  },
  "language_info": {
   "codemirror_mode": {
    "name": "ipython",
    "version": 3
   },
   "file_extension": ".py",
   "mimetype": "text/x-python",
   "name": "python",
   "nbconvert_exporter": "python",
   "pygments_lexer": "ipython3",
   "version": "3.8.8"
  }
 },
 "nbformat": 4,
 "nbformat_minor": 5
}
